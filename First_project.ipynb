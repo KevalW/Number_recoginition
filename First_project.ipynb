{
  "nbformat": 4,
  "nbformat_minor": 0,
  "metadata": {
    "colab": {
      "name": "First project.ipynb",
      "provenance": [],
      "collapsed_sections": []
    },
    "kernelspec": {
      "name": "python3",
      "display_name": "Python 3"
    },
    "language_info": {
      "name": "python"
    }
  },
  "cells": [
    {
      "cell_type": "code",
      "metadata": {
        "colab": {
          "base_uri": "https://localhost:8080/"
        },
        "id": "3boDY_l3-d5F",
        "outputId": "afd2595f-6b08-49e1-d554-bad3d2baeb4a"
      },
      "source": [
        "#Collection of files\n",
        "import tensorflow as tf\n",
        "from tensorflow import keras\n",
        "(x_train,y_train),(x_test,y_test)=tf.keras.datasets.mnist.load_data(path=\"mnist.npz\")\n",
        "#tf.keras.datasets.mnist.load_data(path=\"mnist.npz\")"
      ],
      "execution_count": null,
      "outputs": [
        {
          "output_type": "stream",
          "text": [
            "Downloading data from https://storage.googleapis.com/tensorflow/tf-keras-datasets/mnist.npz\n",
            "11493376/11490434 [==============================] - 0s 0us/step\n"
          ],
          "name": "stdout"
        }
      ]
    },
    {
      "cell_type": "code",
      "metadata": {
        "colab": {
          "base_uri": "https://localhost:8080/"
        },
        "id": "Gt3dvfQq-mEU",
        "outputId": "75835890-a3ed-4098-ed01-dc756d92db3a"
      },
      "source": [
        "print(x_train.shape)\n",
        "print(x_test.shape)\n",
        "print(y_train.shape)\n",
        "y_test.shape\n"
      ],
      "execution_count": null,
      "outputs": [
        {
          "output_type": "stream",
          "text": [
            "(60000, 28, 28)\n",
            "(10000, 28, 28)\n",
            "(60000,)\n"
          ],
          "name": "stdout"
        },
        {
          "output_type": "execute_result",
          "data": {
            "text/plain": [
              "(10000,)"
            ]
          },
          "metadata": {
            "tags": []
          },
          "execution_count": 2
        }
      ]
    },
    {
      "cell_type": "code",
      "metadata": {
        "colab": {
          "base_uri": "https://localhost:8080/"
        },
        "id": "sSwKnMcX-pkN",
        "outputId": "051fb3c0-b91a-4a72-b5ee-7e00b800ea6b"
      },
      "source": [
        "#data required for normalization\n",
        "print(x_train.max())\n",
        "print(x_test.max())"
      ],
      "execution_count": null,
      "outputs": [
        {
          "output_type": "stream",
          "text": [
            "255\n",
            "255\n"
          ],
          "name": "stdout"
        }
      ]
    },
    {
      "cell_type": "code",
      "metadata": {
        "colab": {
          "base_uri": "https://localhost:8080/"
        },
        "id": "jQ0ijRPf-r82",
        "outputId": "e7a9ae0a-5bb0-414f-936d-b9a2b7a825a3"
      },
      "source": [
        "#normalizateion\n",
        "x_train_normalization=x_train/255\n",
        "x_test_normalization=x_test/255\n",
        "x_train_normalization.max()"
      ],
      "execution_count": null,
      "outputs": [
        {
          "output_type": "execute_result",
          "data": {
            "text/plain": [
              "1.0"
            ]
          },
          "metadata": {
            "tags": []
          },
          "execution_count": 4
        }
      ]
    },
    {
      "cell_type": "code",
      "metadata": {
        "id": "Bjev2-n7-1cN"
      },
      "source": [
        "#Creation of ANN\n",
        "from keras.layers import Dense\n",
        "from keras.layers import Flatten\n",
        "from keras.layers import Dropout\n",
        "model = tf.keras.Sequential()\n",
        "model.add(Flatten(input_shape=(28,28)))\n",
        "model.add(Dropout(0.2))\n",
        "model.add(Dense(20,activation ='relu'))\n",
        "model.add(Dropout(0.2))\n",
        "model.add(Dense(10,activation='softmax'))"
      ],
      "execution_count": null,
      "outputs": []
    },
    {
      "cell_type": "code",
      "metadata": {
        "id": "v4yDFpnt-2fv"
      },
      "source": [
        "model.compile(loss='sparse_categorical_crossentropy',optimizer='adam',metrics=['accuracy'])"
      ],
      "execution_count": null,
      "outputs": []
    },
    {
      "cell_type": "code",
      "metadata": {
        "colab": {
          "base_uri": "https://localhost:8080/"
        },
        "id": "R_fbIzPm-7Hi",
        "outputId": "bb2ac1d0-b5fa-49a1-8853-05c7931c1bec"
      },
      "source": [
        "history = model.fit(x_train,y_train,epochs=10,validation_split=0.1)"
      ],
      "execution_count": null,
      "outputs": [
        {
          "output_type": "stream",
          "text": [
            "Epoch 1/10\n",
            "1688/1688 [==============================] - 5s 3ms/step - loss: 7.9521 - accuracy: 0.1502 - val_loss: 1.9623 - val_accuracy: 0.2608\n",
            "Epoch 2/10\n",
            "1688/1688 [==============================] - 4s 2ms/step - loss: 2.0240 - accuracy: 0.2415 - val_loss: 1.5003 - val_accuracy: 0.4565\n",
            "Epoch 3/10\n",
            "1688/1688 [==============================] - 4s 2ms/step - loss: 1.6949 - accuracy: 0.3961 - val_loss: 1.2694 - val_accuracy: 0.5383\n",
            "Epoch 4/10\n",
            "1688/1688 [==============================] - 4s 2ms/step - loss: 1.5175 - accuracy: 0.4473 - val_loss: 1.0646 - val_accuracy: 0.6018\n",
            "Epoch 5/10\n",
            "1688/1688 [==============================] - 4s 2ms/step - loss: 1.3785 - accuracy: 0.4944 - val_loss: 0.9904 - val_accuracy: 0.6153\n",
            "Epoch 6/10\n",
            "1688/1688 [==============================] - 4s 3ms/step - loss: 1.3113 - accuracy: 0.5195 - val_loss: 0.9269 - val_accuracy: 0.6217\n",
            "Epoch 7/10\n",
            "1688/1688 [==============================] - 4s 2ms/step - loss: 1.2460 - accuracy: 0.5394 - val_loss: 0.8857 - val_accuracy: 0.6647\n",
            "Epoch 8/10\n",
            "1688/1688 [==============================] - 4s 2ms/step - loss: 1.1959 - accuracy: 0.5655 - val_loss: 0.7961 - val_accuracy: 0.7018\n",
            "Epoch 9/10\n",
            "1688/1688 [==============================] - 4s 2ms/step - loss: 1.1427 - accuracy: 0.5867 - val_loss: 0.7344 - val_accuracy: 0.7328\n",
            "Epoch 10/10\n",
            "1688/1688 [==============================] - 4s 2ms/step - loss: 1.1179 - accuracy: 0.6006 - val_loss: 0.6794 - val_accuracy: 0.7763\n"
          ],
          "name": "stdout"
        }
      ]
    },
    {
      "cell_type": "code",
      "metadata": {
        "colab": {
          "base_uri": "https://localhost:8080/",
          "height": 282
        },
        "id": "Gbwitz_7-97t",
        "outputId": "7cd94399-0798-4584-970c-556a78ea8617"
      },
      "source": [
        "import matplotlib.pyplot as plt\n",
        "plt.plot(history.history['loss'])\n",
        "plt.plot(history.history['val_loss'])"
      ],
      "execution_count": null,
      "outputs": [
        {
          "output_type": "execute_result",
          "data": {
            "text/plain": [
              "[<matplotlib.lines.Line2D at 0x7f8b527a1850>]"
            ]
          },
          "metadata": {
            "tags": []
          },
          "execution_count": 8
        },
        {
          "output_type": "display_data",
          "data": {
            "image/png": "[encoded data removed]",
            "text/plain": [
              "<Figure size 432x288 with 1 Axes>"
            ]
          },
          "metadata": {
            "tags": [],
            "needs_background": "light"
          }
        }
      ]
    },
    {
      "cell_type": "code",
      "metadata": {
        "colab": {
          "base_uri": "https://localhost:8080/"
        },
        "id": "suSEY7vf_AjC",
        "outputId": "697aaea7-370c-4ebb-8819-b2dcc15613db"
      },
      "source": [
        "import numpy as np\n",
        "y_pred=model.predict_classes(x_test)\n",
        "y_pred=np.argmax(y_pred)\n",
        "y_pred"
      ],
      "execution_count": null,
      "outputs": [
        {
          "output_type": "stream",
          "text": [
            "/usr/local/lib/python3.7/dist-packages/tensorflow/python/keras/engine/sequential.py:450: UserWarning: `model.predict_classes()` is deprecated and will be removed after 2021-01-01. Please use instead:* `np.argmax(model.predict(x), axis=-1)`,   if your model does multi-class classification   (e.g. if it uses a `softmax` last-layer activation).* `(model.predict(x) > 0.5).astype(\"int32\")`,   if your model does binary classification   (e.g. if it uses a `sigmoid` last-layer activation).\n",
            "  warnings.warn('`model.predict_classes()` is deprecated and '\n"
          ],
          "name": "stderr"
        },
        {
          "output_type": "execute_result",
          "data": {
            "text/plain": [
              "62"
            ]
          },
          "metadata": {
            "tags": []
          },
          "execution_count": 9
        }
      ]
    },
    {
      "cell_type": "code",
      "metadata": {
        "id": "XRR6gVhq_Dqx"
      },
      "source": [
        "#saving\n",
        "model.save(\"part_1.hdf5\")"
      ],
      "execution_count": null,
      "outputs": []
    },
    {
      "cell_type": "code",
      "metadata": {
        "colab": {
          "base_uri": "https://localhost:8080/"
        },
        "id": "LZcK7jGt_Mdd",
        "outputId": "7fa704c3-4084-4474-f10e-2f9e718dc4b1"
      },
      "source": [
        "!pip install streamlit --quiet\n",
        "!pip install pyngrok==4.1.1 --quiet\n",
        "!pip install streamlit-drawable-canvas --quiet\n",
        "from pyngrok import ngrok"
      ],
      "execution_count": null,
      "outputs": [
        {
          "output_type": "stream",
          "text": [
            "\u001b[K     |████████████████████████████████| 8.2MB 15.3MB/s \n",
            "\u001b[K     |████████████████████████████████| 4.2MB 29.3MB/s \n",
            "\u001b[K     |████████████████████████████████| 163kB 46.9MB/s \n",
            "\u001b[K     |████████████████████████████████| 81kB 8.1MB/s \n",
            "\u001b[K     |████████████████████████████████| 112kB 45.0MB/s \n",
            "\u001b[K     |████████████████████████████████| 122kB 53.8MB/s \n",
            "\u001b[K     |████████████████████████████████| 71kB 7.6MB/s \n",
            "\u001b[?25h  Building wheel for blinker (setup.py) ... \u001b[?25l\u001b[?25hdone\n",
            "\u001b[31mERROR: google-colab 1.0.0 has requirement ipykernel~=4.10, but you'll have ipykernel 5.5.4 which is incompatible.\u001b[0m\n",
            "  Building wheel for pyngrok (setup.py) ... \u001b[?25l\u001b[?25hdone\n",
            "\u001b[K     |████████████████████████████████| 1.3MB 17.8MB/s \n",
            "\u001b[?25h"
          ],
          "name": "stdout"
        }
      ]
    },
    {
      "cell_type": "code",
      "metadata": {
        "colab": {
          "base_uri": "https://localhost:8080/"
        },
        "id": "A-KALKI3_NRK",
        "outputId": "7624e362-3739-4ff8-9c2d-fe2a35b70961"
      },
      "source": [
        "%%writefile app.py\n",
        "import streamlit as st\n",
        "from tensorflow import keras\n",
        "import cv2\n",
        "model=keras.models.load_model('/content/part_1.hdf5')\n",
        "st.title('Number detection')\n",
        "\n",
        "from streamlit_drawable_canvas import st_canvas\n",
        "# Create a canvas component\n",
        "canvas_result = st_canvas(stroke_width=10,stroke_color='#ffffff',background_color=\"#000000\",\n",
        "    height=150,width=150,drawing_mode='freedraw')\n",
        "# Do something interesting with the image data and paths\n",
        "if canvas_result.image_data is not None:\n",
        "  I=cv2.resize(canvas_result.image_data.astype('uint8'),(28,28))\n",
        "  rescaled=cv2.resize(I,(150,150),interpolation=cv2.INTER_NEAREST)\n",
        "  st.write('Input by user')\n",
        "  st.image(rescaled)\n",
        "import numpy as np\n",
        "if st.button('PREDICT'): \n",
        "  test_x=cv2.cvtColor(I,cv2.COLOR_BGR2GRAY)\n",
        "  value=model.predict(test_x.reshape(1,28,28))\n",
        "  st.write(f'Prediction:{np.argmax(value[0])}')\n",
        "  st.line_chart(value[0])"
      ],
      "execution_count": null,
      "outputs": [
        {
          "output_type": "stream",
          "text": [
            "Overwriting app.py\n"
          ],
          "name": "stdout"
        }
      ]
    },
    {
      "cell_type": "code",
      "metadata": {
        "colab": {
          "base_uri": "https://localhost:8080/",
          "height": 52
        },
        "id": "jzzXwS9L_SOi",
        "outputId": "b9be8d45-07ea-4edc-eb40-87e3731241ef"
      },
      "source": [
        "!nohup streamlit run app.py &\n",
        "url = ngrok.connect(port='8501')\n",
        "url"
      ],
      "execution_count": null,
      "outputs": [
        {
          "output_type": "stream",
          "text": [
            "nohup: appending output to 'nohup.out'\n"
          ],
          "name": "stdout"
        },
        {
          "output_type": "execute_result",
          "data": {
            "application/vnd.google.colaboratory.intrinsic+json": {
              "type": "string"
            },
            "text/plain": [
              "'http://fa9b54eb7b65.ngrok.io'"
            ]
          },
          "metadata": {
            "tags": []
          },
          "execution_count": 13
        }
      ]
    }
  ]
}